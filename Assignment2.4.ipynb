{
 "cells": [
  {
   "cell_type": "code",
   "execution_count": null,
   "metadata": {
    "collapsed": true
   },
   "outputs": [],
   "source": [
    "#Write a Python Program(with class concepts) to find the area of the triangle using the below formula.  \n",
    "#area = (s*(s-a)*(s-b)*(s-c)) ** 0.5  \n",
    "#Function to take the length of the sides of triangle from user should be defined in the parent class and function to calculate the area should be defined in subclass. "
   ]
  },
  {
   "cell_type": "code",
   "execution_count": 7,
   "metadata": {},
   "outputs": [
    {
     "ename": "SyntaxError",
     "evalue": "unexpected EOF while parsing (<ipython-input-7-2d1eddfbb005>, line 26)",
     "output_type": "error",
     "traceback": [
      "\u001b[1;36m  File \u001b[1;32m\"<ipython-input-7-2d1eddfbb005>\"\u001b[1;36m, line \u001b[1;32m26\u001b[0m\n\u001b[1;33m    print(triangle(area(calculate()))\u001b[0m\n\u001b[1;37m                                     ^\u001b[0m\n\u001b[1;31mSyntaxError\u001b[0m\u001b[1;31m:\u001b[0m unexpected EOF while parsing\n"
     ]
    }
   ],
   "source": [
    "#area = (s*(s-a)*(s-b)*(s-c)) ** 0.5 \n",
    "\n",
    "class triangle():\n",
    "    def __init__ (self):\n",
    "        self.side[0]=side[0]\n",
    "        self.side[1]=side[1]\n",
    "        self.side[2]=side[2]\n",
    "\n",
    "    @classmethod\n",
    "    def inputsides(self):\n",
    "        self.side=[]\n",
    "        for i in range(3):\n",
    "            self.side.append(int(input(\"Enter the sides %d: \" %(i+1))))\n",
    "        return self.side\n",
    "    \n",
    "class area(triangle):\n",
    "\n",
    "    def calculate():\n",
    "        half_peri=(self.side1+self.side2+self.side3)/2\n",
    "        area=(half_peri*(half_peri-self.side1)*(half_peri-self.side2)*(half_peri-self.side3))**0.5\n",
    "        return area\n",
    "        \n",
    "triangleinput=triangle.inputsides()\n",
    "\n",
    "\n",
    "print(triangle(area(calculate()))"
   ]
  }
 ],
 "metadata": {
  "kernelspec": {
   "display_name": "Python 3",
   "language": "python",
   "name": "python3"
  },
  "language_info": {
   "codemirror_mode": {
    "name": "ipython",
    "version": 3
   },
   "file_extension": ".py",
   "mimetype": "text/x-python",
   "name": "python",
   "nbconvert_exporter": "python",
   "pygments_lexer": "ipython3",
   "version": "3.6.4"
  }
 },
 "nbformat": 4,
 "nbformat_minor": 2
}
